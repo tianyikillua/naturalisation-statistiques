{
 "cells": [
  {
   "cell_type": "code",
   "execution_count": 1,
   "metadata": {},
   "outputs": [],
   "source": [
    "import pandas as pd\n",
    "import datetime\n",
    "import numpy as np\n",
    "import matplotlib.pyplot as plt\n",
    "import subprocess\n",
    "import os\n",
    "from pathlib import Path\n",
    "\n",
    "params = {\"axes.titlesize\": 14,\n",
    "          \"axes.labelsize\": 14,\n",
    "          \"font.size\": 14,\n",
    "          \"xtick.labelsize\": 14,\n",
    "          \"ytick.labelsize\": 14,\n",
    "          \"legend.fontsize\": 14,\n",
    "          \"savefig.bbox\": \"tight\"}\n",
    "plt.rcParams.update(params)\n",
    "\n",
    "%matplotlib inline"
   ]
  },
  {
   "cell_type": "code",
   "execution_count": 2,
   "metadata": {},
   "outputs": [
    {
     "name": "stdout",
     "output_type": "stream",
     "text": [
      "Process decrets/joe_20190602_0127_c000.pdf...\n",
      "Process decrets/joe_20190526_0122_c000.pdf...\n",
      "Process decrets/joe_20190623_0144_c000.pdf...\n",
      "Process decrets/joe_20190201_0027_c000.pdf...\n",
      "Process decrets/joe_20190411_0086_c000.pdf...\n",
      "Process decrets/joe_20190716_0163_c000.pdf...\n",
      "Process decrets/joe_20190428_0100_c000.pdf...\n",
      "Process decrets/joe_20190216_0040_c000.pdf...\n",
      "Process decrets/joe_20190323_0070_c000.pdf...\n",
      "Process decrets/joe_20190209_0034_c000.pdf...\n",
      "Process decrets/joe_20190309_0058_c000.pdf...\n",
      "Process decrets/joe_20190301_0051_c000.pdf...\n",
      "Process decrets/joe_20190720_0167_c000.pdf...\n",
      "Process decrets/joe_20190705_0154_c000.pdf...\n",
      "Process decrets/joe_20190630_0150_c000.pdf...\n",
      "Process decrets/joe_20190421_0095_c000.pdf...\n",
      "Process decrets/joe_20190614_0136_c000.pdf...\n",
      "Process decrets/joe_20190505_0105_c000.pdf...\n",
      "Process decrets/joe_20190803_0179_c000.pdf...\n",
      "Process decrets/joe_20190116_0013_c000.pdf...\n",
      "Process decrets/joe_20190130_0025_c000.pdf...\n",
      "Process decrets/joe_20190224_0047_c000.pdf...\n",
      "Process decrets/joe_20190727_0173_c000.pdf...\n",
      "Process decrets/joe_20190331_0077_c000.pdf...\n",
      "Process decrets/joe_20190406_0082_c000.pdf...\n",
      "Process decrets/joe_20190519_0116_c000.pdf...\n",
      "Process decrets/joe_20190314_0062_c000.pdf...\n",
      "Process decrets/joe_20190511_0109_c000.pdf...\n",
      "Process decrets/joe_20190608_0132_c000.pdf...\n"
     ]
    }
   ],
   "source": [
    "tmpfile = \"tmp.txt\"\n",
    "df = pd.DataFrame(columns=[\"serie\", \"dep\", \"delai\"])\n",
    "\n",
    "for decret in Path(\".\").glob(\"decrets/*.pdf\"):\n",
    "    print(f\"Process {decret}...\")\n",
    "    date = str(decret).partition(\"joe_\")[2].partition(\"_\")[0]\n",
    "    decret_date = datetime.datetime.strptime(date, \"%Y%m%d\")\n",
    "    with open(tmpfile, \"w\") as f:\n",
    "        subprocess.check_call([\"pdf2txt.py\", decret], stdout=f)\n",
    "    \n",
    "    with open(tmpfile) as f:\n",
    "        content = f.read()\n",
    "        keys = [\"\\n\\n\", \", \\n\"]\n",
    "        for key in keys:\n",
    "            content = content.replace(key, \"\\n\")\n",
    "        content = content.replace(\"\\ndép\", \", dép\")\n",
    "        content = content.replace(\"X \\n\", \"X\")\n",
    "        lines = content.split(\"\\n\")\n",
    "    \n",
    "    for line in lines:\n",
    "        if \"NAT,\" not in line:\n",
    "            continue\n",
    "        else:\n",
    "            dep = line.partition(\"dép.\")[2].partition(\",\")[0].replace(\" \", \"\")\n",
    "            serie = line.partition(\"NAT,\")[2].partition(\",\")[0].replace(\" \", \"\")\n",
    "            year = int(serie.partition(\"X\")[0])\n",
    "            weeknum = int(serie.partition(\"X\")[2][:3]) + 1\n",
    "            if weeknum > 53:\n",
    "                continue\n",
    "            else:\n",
    "                date_serie = datetime.datetime.strptime(f\"{year} {weeknum}-3\", \"%G %V-%w\")\n",
    "                delai = (decret_date - date_serie).days / 30.5\n",
    "            line = {\"serie\": serie, \"dep\": dep, \"delai\": delai}\n",
    "            df = df.append(line, ignore_index=True)\n",
    "\n",
    "os.remove(tmpfile)"
   ]
  },
  {
   "cell_type": "code",
   "execution_count": 3,
   "metadata": {},
   "outputs": [
    {
     "data": {
      "text/html": [
       "<div>\n",
       "<style scoped>\n",
       "    .dataframe tbody tr th:only-of-type {\n",
       "        vertical-align: middle;\n",
       "    }\n",
       "\n",
       "    .dataframe tbody tr th {\n",
       "        vertical-align: top;\n",
       "    }\n",
       "\n",
       "    .dataframe thead th {\n",
       "        text-align: right;\n",
       "    }\n",
       "</style>\n",
       "<table border=\"1\" class=\"dataframe\">\n",
       "  <thead>\n",
       "    <tr style=\"text-align: right;\">\n",
       "      <th></th>\n",
       "      <th>serie</th>\n",
       "      <th>dep</th>\n",
       "      <th>delai</th>\n",
       "    </tr>\n",
       "  </thead>\n",
       "  <tbody>\n",
       "    <tr>\n",
       "      <th>0</th>\n",
       "      <td>2018X043141</td>\n",
       "      <td>059</td>\n",
       "      <td>7.016393</td>\n",
       "    </tr>\n",
       "    <tr>\n",
       "      <th>1</th>\n",
       "      <td>2018X044168</td>\n",
       "      <td>075</td>\n",
       "      <td>6.786885</td>\n",
       "    </tr>\n",
       "    <tr>\n",
       "      <th>2</th>\n",
       "      <td>2018X044325</td>\n",
       "      <td>031</td>\n",
       "      <td>6.786885</td>\n",
       "    </tr>\n",
       "    <tr>\n",
       "      <th>3</th>\n",
       "      <td>2018X044057</td>\n",
       "      <td>094</td>\n",
       "      <td>6.786885</td>\n",
       "    </tr>\n",
       "    <tr>\n",
       "      <th>4</th>\n",
       "      <td>2018X043610</td>\n",
       "      <td>093</td>\n",
       "      <td>7.016393</td>\n",
       "    </tr>\n",
       "  </tbody>\n",
       "</table>\n",
       "</div>"
      ],
      "text/plain": [
       "         serie  dep     delai\n",
       "0  2018X043141  059  7.016393\n",
       "1  2018X044168  075  6.786885\n",
       "2  2018X044325  031  6.786885\n",
       "3  2018X044057  094  6.786885\n",
       "4  2018X043610  093  7.016393"
      ]
     },
     "execution_count": 3,
     "metadata": {},
     "output_type": "execute_result"
    }
   ],
   "source": [
    "df.head()"
   ]
  },
  {
   "cell_type": "code",
   "execution_count": 4,
   "metadata": {},
   "outputs": [],
   "source": [
    "df.to_csv(\"data_processed.csv\", index=False)"
   ]
  },
  {
   "cell_type": "code",
   "execution_count": 6,
   "metadata": {},
   "outputs": [
    {
     "data": {
      "image/png": "[encoded data removed]",
      "text/plain": [
       "<Figure size 432x288 with 1 Axes>"
      ]
     },
     "metadata": {
      "needs_background": "light"
     },
     "output_type": "display_data"
    }
   ],
   "source": [
    "df[\"dep\"].value_counts()[:8].plot(kind=\"bar\", grid=True, title=\"nombre de naturalisation\")\n",
    "plt.tight_layout()"
   ]
  },
  {
   "cell_type": "code",
   "execution_count": 7,
   "metadata": {},
   "outputs": [
    {
     "data": {
      "image/png": "[encoded data removed]",
      "text/plain": [
       "<Figure size 432x288 with 1 Axes>"
      ]
     },
     "metadata": {
      "needs_background": "light"
     },
     "output_type": "display_data"
    }
   ],
   "source": [
    "n_deps = 8\n",
    "deps = df[\"dep\"].value_counts()[:n_deps].index\n",
    "delai = np.zeros(n_deps)\n",
    "for i, dep in enumerate(deps):\n",
    "    delai[i] = df[df[\"dep\"] == dep][\"delai\"].median()\n",
    "idx = np.argsort(delai)\n",
    "deps_ = np.array([dep[1:] for dep in deps])\n",
    "plt.bar(deps_[idx], delai[idx])\n",
    "plt.xlabel(\"département\")\n",
    "plt.ylabel(\"délai médian (mois)\")\n",
    "plt.xticks(rotation=45)\n",
    "plt.title(f\"pour {n_deps} dép. ayant les plus de naturalisation\")\n",
    "plt.grid()\n",
    "plt.tight_layout()"
   ]
  },
  {
   "cell_type": "code",
   "execution_count": 8,
   "metadata": {},
   "outputs": [
    {
     "data": {
      "image/png": "[encoded data removed]",
      "text/plain": [
       "<Figure size 432x288 with 1 Axes>"
      ]
     },
     "metadata": {
      "needs_background": "light"
     },
     "output_type": "display_data"
    }
   ],
   "source": [
    "def duration_dep(dep):\n",
    "    return df[df[\"dep\"] == dep][\"delai\"]\n",
    "\n",
    "def plot_duration_CDF(durations, labels):\n",
    "    for duration, label in zip(durations, labels):\n",
    "        y, x = np.histogram(duration, bins=len(duration), density=True)\n",
    "        cdf = np.cumsum(y / y.sum())\n",
    "        idx = np.where(cdf < 0.96)[0][-1]\n",
    "        plt.plot(x[:idx], cdf[:idx], label=label)\n",
    "    plt.xlabel(\"délai d'attente (mois)\")\n",
    "    plt.ylabel(\"probabilité cumulative\")\n",
    "    plt.grid()\n",
    "    plt.legend()\n",
    "    plt.tight_layout()\n",
    "\n",
    "durations = [df[\"delai\"]] + [duration_dep(x) for x in deps[:2]]\n",
    "labels = [\"en général\"] + list(deps_[:2])\n",
    "plot_duration_CDF(durations, labels)"
   ]
  }
 ],
 "metadata": {
  "kernelspec": {
   "display_name": "Python 3",
   "language": "python",
   "name": "python3"
  },
  "language_info": {
   "codemirror_mode": {
    "name": "ipython",
    "version": 3
   },
   "file_extension": ".py",
   "mimetype": "text/x-python",
   "name": "python",
   "nbconvert_exporter": "python",
   "pygments_lexer": "ipython3",
   "version": "3.7.4"
  }
 },
 "nbformat": 4,
 "nbformat_minor": 4
}
