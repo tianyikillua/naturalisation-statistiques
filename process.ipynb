{
 "cells": [
  {
   "cell_type": "code",
   "execution_count": 1,
   "metadata": {},
   "outputs": [],
   "source": [
    "import pandas as pd\n",
    "import datetime\n",
    "import subprocess\n",
    "import os\n",
    "from pathlib import Path"
   ]
  },
  {
   "cell_type": "markdown",
   "metadata": {},
   "source": [
    "# Process *les journaux officiels*"
   ]
  },
  {
   "cell_type": "code",
   "execution_count": 2,
   "metadata": {},
   "outputs": [
    {
     "name": "stdout",
     "output_type": "stream",
     "text": [
      "Process JO 20191005...\n"
     ]
    }
   ],
   "source": [
    "tmpfile = \"tmp.txt\"\n",
    "df_file = \"data_processed.csv\"\n",
    "if os.path.isfile(df_file):\n",
    "    df = pd.read_csv(df_file)\n",
    "    jo_list = sorted(df[\"jo\"].unique())\n",
    "else:\n",
    "    df = pd.DataFrame(columns=[\"numero\", \"série\", \"sexe\", \"age\", \"dep\", \"jo\", \"delai\"])\n",
    "    jo_list = []\n",
    "\n",
    "for decret in Path(\".\").glob(\"decrets/*.pdf\"):\n",
    "    # Skip if current JO is already treated\n",
    "    jo = str(decret).partition(\"joe_\")[2].partition(\"_\")[0]\n",
    "    if int(jo) in jo_list:\n",
    "        continue\n",
    "    \n",
    "    print(f\"Process JO {jo}...\")\n",
    "    date_jo = datetime.datetime.strptime(jo, \"%Y%m%d\")\n",
    "    with open(tmpfile, \"w\") as f:\n",
    "        subprocess.check_call([\"pdf2txt.py\", decret], stdout=f)\n",
    "#         subprocess.check_call([\"python\", \"D:/Programs/Miniconda3/Scripts/pdf2txt.py\", str(decret)], stdout=f)\n",
    "    \n",
    "    with open(tmpfile) as f:\n",
    "        content = f.read()\n",
    "        keys = [\"\\n\\n\", \", \\n\"]\n",
    "        for key in keys:\n",
    "            content = content.replace(key, \"\\n\")\n",
    "        content = content.replace(\"\\ndép\", \", dép\")\n",
    "        content = content.replace(\"dép. \\n\", \", dép. \")\n",
    "        content = content.replace(\"X \\n\", \"X\")\n",
    "        content = content.replace(\". \\n\", \"^\")\n",
    "        content = content.replace(\": \\n\", \"^\")\n",
    "        content = content.replace(\"\\n\", \"\")\n",
    "        content = content.replace(\"^\", \".\\n\")\n",
    "        lines = content.split(\"\\n\")\n",
    "    \n",
    "    for line in lines:\n",
    "        if \"NAT,\" not in line:\n",
    "            continue\n",
    "        else:\n",
    "            if \"née\" in line:\n",
    "                sexe = \"F\"\n",
    "            else:\n",
    "                sexe = \"H\"\n",
    "            line = line.replace(\" au \", \" à \").replace(\" aux \", \" à \")\n",
    "            naissance = line.partition(\" le \")[2].partition(\" à \")[0].replace(\" \", \"\")\n",
    "            try:\n",
    "                date_naissance = datetime.datetime.strptime(naissance, \"%d/%m/%Y\")\n",
    "            except ValueError:\n",
    "                continue\n",
    "            age = (date_jo - date_naissance).days / 365.2425\n",
    "            dep = line.partition(\"dép.\")[2].partition(\",\")[0].replace(\" \", \"\")\n",
    "            if len(dep) == 0:\n",
    "                continue\n",
    "            elif \"Dt\" in dep:\n",
    "                dep = dep.partition(\"Dt\")[0]\n",
    "            numero = line.partition(\"NAT,\")[2].partition(\",\")[0].replace(\" \", \"\")\n",
    "            serie = numero[:8]\n",
    "            year = int(serie.partition(\"X\")[0])\n",
    "            weeknum = int(serie.partition(\"X\")[2][:3]) + 1\n",
    "            if weeknum > 53:\n",
    "                continue\n",
    "            else:\n",
    "                date_serie = datetime.datetime.strptime(f\"{year} {weeknum}-3\", \"%G %V-%w\")\n",
    "                delai = (date_jo - date_serie).days / (365.2425 / 12)\n",
    "            line = {\"numero\": numero, \"serie\": serie, \"sexe\": sexe, \"age\": age, \"dep\": dep, \"jo\": jo, \"delai\": delai}\n",
    "            df = df.append(line, ignore_index=True)\n",
    "\n",
    "os.remove(tmpfile)"
   ]
  },
  {
   "cell_type": "code",
   "execution_count": 3,
   "metadata": {},
   "outputs": [
    {
     "data": {
      "text/html": [
       "<div>\n",
       "<style scoped>\n",
       "    .dataframe tbody tr th:only-of-type {\n",
       "        vertical-align: middle;\n",
       "    }\n",
       "\n",
       "    .dataframe tbody tr th {\n",
       "        vertical-align: top;\n",
       "    }\n",
       "\n",
       "    .dataframe thead th {\n",
       "        text-align: right;\n",
       "    }\n",
       "</style>\n",
       "<table border=\"1\" class=\"dataframe\">\n",
       "  <thead>\n",
       "    <tr style=\"text-align: right;\">\n",
       "      <th></th>\n",
       "      <th>numero</th>\n",
       "      <th>serie</th>\n",
       "      <th>sexe</th>\n",
       "      <th>age</th>\n",
       "      <th>dep</th>\n",
       "      <th>jo</th>\n",
       "      <th>delai</th>\n",
       "    </tr>\n",
       "  </thead>\n",
       "  <tbody>\n",
       "    <tr>\n",
       "      <th>24363</th>\n",
       "      <td>2019X009459</td>\n",
       "      <td>2019X009</td>\n",
       "      <td>F</td>\n",
       "      <td>57.988870</td>\n",
       "      <td>092</td>\n",
       "      <td>20191005</td>\n",
       "      <td>6.998090</td>\n",
       "    </tr>\n",
       "    <tr>\n",
       "      <th>24364</th>\n",
       "      <td>2019X005565</td>\n",
       "      <td>2019X005</td>\n",
       "      <td>F</td>\n",
       "      <td>56.395409</td>\n",
       "      <td>084</td>\n",
       "      <td>20191005</td>\n",
       "      <td>7.918027</td>\n",
       "    </tr>\n",
       "    <tr>\n",
       "      <th>24365</th>\n",
       "      <td>2019X009202</td>\n",
       "      <td>2019X009</td>\n",
       "      <td>H</td>\n",
       "      <td>40.118551</td>\n",
       "      <td>045</td>\n",
       "      <td>20191005</td>\n",
       "      <td>6.998090</td>\n",
       "    </tr>\n",
       "    <tr>\n",
       "      <th>24366</th>\n",
       "      <td>2019X006322</td>\n",
       "      <td>2019X006</td>\n",
       "      <td>F</td>\n",
       "      <td>47.267227</td>\n",
       "      <td>030</td>\n",
       "      <td>20191005</td>\n",
       "      <td>7.688043</td>\n",
       "    </tr>\n",
       "    <tr>\n",
       "      <th>24367</th>\n",
       "      <td>2019X009708</td>\n",
       "      <td>2019X009</td>\n",
       "      <td>H</td>\n",
       "      <td>23.168169</td>\n",
       "      <td>091</td>\n",
       "      <td>20191005</td>\n",
       "      <td>6.998090</td>\n",
       "    </tr>\n",
       "  </tbody>\n",
       "</table>\n",
       "</div>"
      ],
      "text/plain": [
       "            numero     serie sexe        age  dep        jo     delai\n",
       "24363  2019X009459  2019X009    F  57.988870  092  20191005  6.998090\n",
       "24364  2019X005565  2019X005    F  56.395409  084  20191005  7.918027\n",
       "24365  2019X009202  2019X009    H  40.118551  045  20191005  6.998090\n",
       "24366  2019X006322  2019X006    F  47.267227  030  20191005  7.688043\n",
       "24367  2019X009708  2019X009    H  23.168169  091  20191005  6.998090"
      ]
     },
     "execution_count": 3,
     "metadata": {},
     "output_type": "execute_result"
    }
   ],
   "source": [
    "df.tail()"
   ]
  },
  {
   "cell_type": "code",
   "execution_count": 4,
   "metadata": {},
   "outputs": [
    {
     "data": {
      "text/plain": [
       "False"
      ]
     },
     "execution_count": 4,
     "metadata": {},
     "output_type": "execute_result"
    }
   ],
   "source": [
    "df.isnull().values.any()"
   ]
  },
  {
   "cell_type": "code",
   "execution_count": 5,
   "metadata": {},
   "outputs": [],
   "source": [
    "df.to_csv(\"data_processed.csv\", index=False)"
   ]
  }
 ],
 "metadata": {
  "kernelspec": {
   "display_name": "Python 3",
   "language": "python",
   "name": "python3"
  },
  "language_info": {
   "codemirror_mode": {
    "name": "ipython",
    "version": 3
   },
   "file_extension": ".py",
   "mimetype": "text/x-python",
   "name": "python",
   "nbconvert_exporter": "python",
   "pygments_lexer": "ipython3",
   "version": "3.7.4"
  }
 },
 "nbformat": 4,
 "nbformat_minor": 4
}
