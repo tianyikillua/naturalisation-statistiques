{
 "cells": [
  {
   "cell_type": "code",
   "execution_count": 1,
   "metadata": {},
   "outputs": [],
   "source": [
    "import pandas as pd\n",
    "import datetime\n",
    "import subprocess\n",
    "import os\n",
    "from pathlib import Path"
   ]
  },
  {
   "cell_type": "markdown",
   "metadata": {},
   "source": [
    "# Process *les journaux officiels*"
   ]
  },
  {
   "cell_type": "code",
   "execution_count": 2,
   "metadata": {},
   "outputs": [
    {
     "name": "stdout",
     "output_type": "stream",
     "text": [
      "Process JO 20190831...\n"
     ]
    }
   ],
   "source": [
    "tmpfile = \"tmp.txt\"\n",
    "df_file = \"data_processed.csv\"\n",
    "if os.path.isfile(df_file):\n",
    "    df = pd.read_csv(df_file)\n",
    "    jo_list = sorted(df[\"jo\"].unique())\n",
    "else:\n",
    "    df = pd.DataFrame(columns=[\"numero\", \"série\", \"sexe\", \"age\", \"dep\", \"jo\", \"delai\"])\n",
    "    jo_list = []\n",
    "\n",
    "for decret in Path(\".\").glob(\"decrets/*.pdf\"):\n",
    "    # Skip if current JO is already treated\n",
    "    jo = str(decret).partition(\"joe_\")[2].partition(\"_\")[0]\n",
    "    if int(jo) in jo_list:\n",
    "        continue\n",
    "    \n",
    "    print(f\"Process JO {jo}...\")\n",
    "    date_jo = datetime.datetime.strptime(jo, \"%Y%m%d\")\n",
    "    with open(tmpfile, \"w\") as f:\n",
    "        subprocess.check_call([\"pdf2txt.py\", decret], stdout=f)\n",
    "#         subprocess.check_call([\"python\", \"D:/Programs/Miniconda3/Scripts/pdf2txt.py\", str(decret)], stdout=f)\n",
    "    \n",
    "    with open(tmpfile) as f:\n",
    "        content = f.read()\n",
    "        keys = [\"\\n\\n\", \", \\n\"]\n",
    "        for key in keys:\n",
    "            content = content.replace(key, \"\\n\")\n",
    "        content = content.replace(\"\\ndép\", \", dép\")\n",
    "        content = content.replace(\"dép. \\n\", \", dép. \")\n",
    "        content = content.replace(\"X \\n\", \"X\")\n",
    "        content = content.replace(\". \\n\", \"^\")\n",
    "        content = content.replace(\": \\n\", \"^\")\n",
    "        content = content.replace(\"\\n\", \"\")\n",
    "        content = content.replace(\"^\", \".\\n\")\n",
    "        lines = content.split(\"\\n\")\n",
    "    \n",
    "    for line in lines:\n",
    "        if \"NAT,\" not in line:\n",
    "            continue\n",
    "        else:\n",
    "            if \"née\" in line:\n",
    "                sexe = \"F\"\n",
    "            else:\n",
    "                sexe = \"H\"\n",
    "            line = line.replace(\" au \", \" à \").replace(\" aux \", \" à \")\n",
    "            naissance = line.partition(\" le \")[2].partition(\" à \")[0].replace(\" \", \"\")\n",
    "            try:\n",
    "                date_naissance = datetime.datetime.strptime(naissance, \"%d/%m/%Y\")\n",
    "            except ValueError:\n",
    "                continue\n",
    "            age = (date_jo - date_naissance).days / 365.2425\n",
    "            dep = line.partition(\"dép.\")[2].partition(\",\")[0].replace(\" \", \"\")\n",
    "            if len(dep) == 0:\n",
    "                continue\n",
    "            elif \"Dt\" in dep:\n",
    "                dep = dep.partition(\"Dt\")[0]\n",
    "            numero = line.partition(\"NAT,\")[2].partition(\",\")[0].replace(\" \", \"\")\n",
    "            serie = numero[:8]\n",
    "            year = int(serie.partition(\"X\")[0])\n",
    "            weeknum = int(serie.partition(\"X\")[2][:3]) + 1\n",
    "            if weeknum > 53:\n",
    "                continue\n",
    "            else:\n",
    "                date_serie = datetime.datetime.strptime(f\"{year} {weeknum}-3\", \"%G %V-%w\")\n",
    "                delai = (date_jo - date_serie).days / (365.2425 / 12)\n",
    "            line = {\"numero\": numero, \"serie\": serie, \"sexe\": sexe, \"age\": age, \"dep\": dep, \"jo\": jo, \"delai\": delai}\n",
    "            df = df.append(line, ignore_index=True)\n",
    "\n",
    "os.remove(tmpfile)"
   ]
  },
  {
   "cell_type": "code",
   "execution_count": 3,
   "metadata": {},
   "outputs": [
    {
     "data": {
      "text/html": [
       "<div>\n",
       "<style scoped>\n",
       "    .dataframe tbody tr th:only-of-type {\n",
       "        vertical-align: middle;\n",
       "    }\n",
       "\n",
       "    .dataframe tbody tr th {\n",
       "        vertical-align: top;\n",
       "    }\n",
       "\n",
       "    .dataframe thead th {\n",
       "        text-align: right;\n",
       "    }\n",
       "</style>\n",
       "<table border=\"1\" class=\"dataframe\">\n",
       "  <thead>\n",
       "    <tr style=\"text-align: right;\">\n",
       "      <th></th>\n",
       "      <th>numero</th>\n",
       "      <th>serie</th>\n",
       "      <th>sexe</th>\n",
       "      <th>age</th>\n",
       "      <th>dep</th>\n",
       "      <th>jo</th>\n",
       "      <th>delai</th>\n",
       "    </tr>\n",
       "  </thead>\n",
       "  <tbody>\n",
       "    <tr>\n",
       "      <th>22155</th>\n",
       "      <td>2019X004251</td>\n",
       "      <td>2019X004</td>\n",
       "      <td>H</td>\n",
       "      <td>39.116477</td>\n",
       "      <td>095</td>\n",
       "      <td>20190831</td>\n",
       "      <td>6.998090</td>\n",
       "    </tr>\n",
       "    <tr>\n",
       "      <th>22156</th>\n",
       "      <td>2018X041046</td>\n",
       "      <td>2018X041</td>\n",
       "      <td>F</td>\n",
       "      <td>33.936357</td>\n",
       "      <td>075</td>\n",
       "      <td>20190831</td>\n",
       "      <td>10.447853</td>\n",
       "    </tr>\n",
       "    <tr>\n",
       "      <th>22157</th>\n",
       "      <td>2019X009784</td>\n",
       "      <td>2019X009</td>\n",
       "      <td>F</td>\n",
       "      <td>28.775403</td>\n",
       "      <td>076</td>\n",
       "      <td>20190831</td>\n",
       "      <td>5.848169</td>\n",
       "    </tr>\n",
       "    <tr>\n",
       "      <th>22158</th>\n",
       "      <td>2019X006304</td>\n",
       "      <td>2019X006</td>\n",
       "      <td>H</td>\n",
       "      <td>49.057818</td>\n",
       "      <td>034</td>\n",
       "      <td>20190831</td>\n",
       "      <td>6.538122</td>\n",
       "    </tr>\n",
       "    <tr>\n",
       "      <th>22159</th>\n",
       "      <td>2019X006731</td>\n",
       "      <td>2019X006</td>\n",
       "      <td>H</td>\n",
       "      <td>48.838785</td>\n",
       "      <td>069</td>\n",
       "      <td>20190831</td>\n",
       "      <td>6.538122</td>\n",
       "    </tr>\n",
       "  </tbody>\n",
       "</table>\n",
       "</div>"
      ],
      "text/plain": [
       "            numero     serie sexe        age  dep        jo      delai\n",
       "22155  2019X004251  2019X004    H  39.116477  095  20190831   6.998090\n",
       "22156  2018X041046  2018X041    F  33.936357  075  20190831  10.447853\n",
       "22157  2019X009784  2019X009    F  28.775403  076  20190831   5.848169\n",
       "22158  2019X006304  2019X006    H  49.057818  034  20190831   6.538122\n",
       "22159  2019X006731  2019X006    H  48.838785  069  20190831   6.538122"
      ]
     },
     "execution_count": 3,
     "metadata": {},
     "output_type": "execute_result"
    }
   ],
   "source": [
    "df.tail()"
   ]
  },
  {
   "cell_type": "code",
   "execution_count": 4,
   "metadata": {},
   "outputs": [
    {
     "data": {
      "text/plain": [
       "False"
      ]
     },
     "execution_count": 4,
     "metadata": {},
     "output_type": "execute_result"
    }
   ],
   "source": [
    "df.isnull().values.any()"
   ]
  },
  {
   "cell_type": "code",
   "execution_count": 5,
   "metadata": {},
   "outputs": [],
   "source": [
    "df.to_csv(\"data_processed.csv\", index=False)"
   ]
  },
  {
   "cell_type": "code",
   "execution_count": null,
   "metadata": {},
   "outputs": [],
   "source": []
  }
 ],
 "metadata": {
  "kernelspec": {
   "display_name": "Python 3",
   "language": "python",
   "name": "python3"
  },
  "language_info": {
   "codemirror_mode": {
    "name": "ipython",
    "version": 3
   },
   "file_extension": ".py",
   "mimetype": "text/x-python",
   "name": "python",
   "nbconvert_exporter": "python",
   "pygments_lexer": "ipython3",
   "version": "3.7.4"
  }
 },
 "nbformat": 4,
 "nbformat_minor": 4
}
